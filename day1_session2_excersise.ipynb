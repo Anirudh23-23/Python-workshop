In [1]:
#  1. Write a program to print the triangle

n = int(input('Enter the number'))
for i in range(n+1):
    for j in range(i):
        k=i+j
        print (k , end=" ")
    print('')
Enter the number4

1 
2 3 
3 4 5 
4 5 6 7 
In [7]:
# 2.Enter number 4 
"""
*
* *
* * *
* * * *
"""

n = int(input('Enter the number'))
for i in range(n+1):
    for j in range(i):
        print ('*  ' , end="")
    print('')
Enter the number4

*  
*  *  
*  *  *  
*  *  *  *  
In [8]:
# 3. Enter number 5
"""
5
4 5
3 4 5
2 3 4 5
1 2 3 4 5
"""

n= int(input('Enter the number'))
for i in range(n+1):
    k=n-i+1
    for j in range(i):
        print (k, end=" ")
        k=k+1
    print('')
Enter the number5

5 
4 5 
3 4 5 
2 3 4 5 
1 2 3 4 5 
In [9]:
# 4. Enter number 5
"""
5 4 3 2 1
4 3 2 1
3 2 1
2 1
1
"""

n= int(input('Enter the number'))
for i in range(n+1):
    k=n-i
    for j in range(n-i):
        print (k, end=" ")
        k=k-1
    print('')
Enter the number5
5 4 3 2 1 
4 3 2 1 
3 2 1 
2 1 
1 

In [10]:
# 5. Enter number 4
"""
1 2 3 4
2 3 4
3 4
4
3 4
2 3 4¶
1 2 3 4
"""


n= int(input('Enter the number'))
for i in range(n+1):
    k=i+1
    for j in range(n-i):
        print (k, end=" ")
        k=k+1
    if (i+1) != (n+1):
        print('')
for i in range(n-1):
    k=n-i-1
    for j in range(i+2):
        print (k, end=" ")
        k=k+1
    print('')
Enter the number4
1 2 3 4 
2 3 4 
3 4 
4 
3 4 
2 3 4 
1 2 3 4 
In [11]:
# 6.Find the length of a string without using len functions


string=input("Enter string:")
count=0
for i in string:
    count=count+1
print("Length of string is:")
print(count)
Enter string:HELLO!!!
Length of string is:
8
In [12]:
# 7. Find the no of words and characters in a string

string=input("Enter string:")
char=0
word=0
for i in string:
      if(i==' '):
            if(char!=0):
                  word=word+1
      char=char+1
if(char!=0):            
      word=word+1
print("Number of words is:")
print(word)
print("Number of characters is:")
print(char)
Enter string:Hope you are doing well
Number of words is:
5
Number of characters is:
23
In [13]:
# 8. Find the no of occurrences of a word in a string

s1 = input("Enter string:")
s2 = input("Enter word:")
word = s1.split()
count = 0
for i in word:
   if i == s2:
      count=count+1
print(count)
Enter string:long time is long time you know 
Enter word:time
2
In [ ]:
