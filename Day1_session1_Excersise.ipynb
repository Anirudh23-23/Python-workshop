In [1]:
# Python program to find compound interest 

p = float(input("Enter the principle amount : "))
r = float(input("Enter the rate of interest : "))
t = float(input("Enter the time in the years: "))

# calculating compound interest
ci =  p * (pow((1 + r / 100), t)) 

# printing the values
print("Principle amount  : ", p)
print("Interest rate     : ", r)
print("Time in years     : ", t)
print("compound Interest : ", ci)
Enter the principle amount : 1000
Enter the rate of interest : 15
Enter the time in the years: 2
Principle amount  :  1000.0
Interest rate     :  15.0
Time in years     :  2.0
compound Interest :  1322.4999999999998
In [3]:
celsius = float(input("Enter temperature in celsius: "))
fahrenheit = (celsius * 9/5) + 32
print('%.2f Celsius is: %0.2f Fahrenheit' %(celsius, fahrenheit))
Enter temperature in celsius: 36
36.00 Celsius is: 96.80 Fahrenheit
In [4]:
# Python Program to find Largest of two Numbers using if-else statements
a = int(input("Enter the first number: "))
b = int(input("Enter the second number: "))
if(a >= b):
  print(a, "is greater")
else:
  print(b, "is greater")
Enter the first number: 10
Enter the second number: 15
15 is greater
In [5]:
# Python program to find the surface area of cylinder and cone
r = int(input("Enter the radius number: "))
h = int(input("Enter the height number: "))
PI=3.14
cylinder=2*PI*r*r*h
cone=1/3*PI*r*r*h
print(cylinder,"surface area of cylinder")
print(cone,"surface area of cone")
Enter the radius number: 8
Enter the height number: 5
2009.6000000000001 surface area of cylinder
334.93333333333334 surface area of cone
In [2]:
a=int(input("enter the first number"))
b=int(input("enter the second number"))
c=int(input("enter the third number"))
d=int(input("enter the fourth number"))

def fun(a,b,c,d):
        if a>b and a>c and a>d:
              return a
        elif b>a and b>c and b>d:
              return b
        elif c>a and c>b and c>d:
              return c
        else:
              return d



print("the greater number of the four is: ",fun(a,b,c,d))
enter the first number10
enter the second number20
enter the third number30
enter the fourth number40
the greater number of the four is:  40
In [3]:
loop = 1 
choice = 0 
def OddorEven(m,n):
    if(m%2==0):
        print(m,"is even")
    else:
        print(m,"is odd")
    if(n%2==0):
        print(n,"is even")
    else:
        print(n,"is odd")
def Fact(m,n):
    fac = 1
    for i in range(1, m + 1):
          fac = fac * i
    print("factorial {0} is:".format(m),fac)
    fac = 1
    for i in range(1, n + 1):
          fac = fac * i
    print("factorial {0} is:".format(n),fac)
def OddNoUptoN(m,n):
    print("odd numbers upto",m,"is")
    for i in range(m+1):
        if(i%2!=0):
            print(i)
    print("odd numbers upto",n,"is")
    for i in range(n+1):
        if(i%2!=0):
            print(i)
def PrimeUptoN(m,n):
    print("prime numbers upto {0} are:".format(m))
    for i in range(2, m + 1):
        if(i==2):
            print(i)
        j=2
        for j in range(2, i):
            if(i % j == 0):
                j = i
                break;
        if(j != i):
            print(i)
    print("prime numbers upto {0} are:".format(n))
    for i in range(2,n + 1): 
        if(i==2):
            print(i) 
        j=2
        for j in range(2,i):  
            if(i % j == 0):
                j = i
                break;
        if(j != i):
            print(i)
while loop == 1:
    print ("Enter your choice:")
    print (" ")
    print("1) Odd or Even")
    print("2) Factorial")
    print("3) Print odd numbers")
    print("4) Prime number")
    print("5) Quit ")
    print(" ")
    try:
        choice = int(input("Choose your option: "))
    except:
        print('please enter a valid number for option')
    print(" ")
    print(" ")
    if choice == 1:
        x = int(input('Enter 1st no: '))
        y = int(input('Enter 2nd no: '))
        OddorEven(x,y)
 
    elif choice == 2:
        x = int(input('Enter 1st no: '))
        y = int(input('Enter 2nd no: '))
        Fact(x,y)
  
    elif choice == 3:
        x = int(input('Enter 1st no: '))
        y = int(input('Enter 2nd no: '))
        OddNoUptoN(x,y)
 
    elif choice == 4:
        x = int(input('Enter 1st no: '))
        y = int(input('Enter 2nd no: '))
        PrimeUptoN(x,y)
        
    elif choice == 5:
        loop = 0
     
    else:
        print("please choice a valid option from 1 to 5")
        choice=0
Enter your choice:
 
1) Odd or Even
2) Factorial
3) Print odd numbers
4) Prime number
5) Quit 
 
Choose your option: 2
 
 
Enter 1st no: 5
Enter 2nd no: 7
factorial 5 is: 120
factorial 7 is: 5040
Enter your choice:
 
1) Odd or Even
2) Factorial
3) Print odd numbers
4) Prime number
5) Quit 
 
Choose your option: 1
 
 
Enter 1st no: 11
Enter 2nd no: 44
11 is odd
44 is even
Enter your choice:
 
1) Odd or Even
2) Factorial
3) Print odd numbers
4) Prime number
5) Quit 
 
Choose your option: 4
 
 
Enter 1st no: 9
Enter 2nd no: 77
prime numbers upto 9 are:
2
3
5
7
prime numbers upto 77 are:
2
3
5
7
11
13
17
19
23
29
31
37
41
43
47
53
59
61
67
71
73
Enter your choice:
 
1) Odd or Even
2) Factorial
3) Print odd numbers
4) Prime number
5) Quit 
 
Choose your option: 5
 
 
In [ ]:
